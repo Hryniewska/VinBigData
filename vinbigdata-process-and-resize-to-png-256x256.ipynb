{
 "cells": [
  {
   "cell_type": "markdown",
   "metadata": {
    "papermill": {
     "duration": 0.006743,
     "end_time": "2021-01-02T17:39:44.700091",
     "exception": false,
     "start_time": "2021-01-02T17:39:44.693348",
     "status": "completed"
    },
    "tags": []
   },
   "source": [
    "**By using the output of this notebook, you are accepting the [competition rules](https://www.kaggle.com/c/vinbigdata-chest-xray-abnormalities-detection/rules).**\n",
    "\n",
    "\n",
    "## References\n",
    "\n",
    "- Monochrome fix and scaling: https://www.kaggle.com/raddar/convert-dicom-to-np-array-the-correct-way\n",
    "- Resizing and saving image: https://www.kaggle.com/xhlulu/vinbigdata-process-and-resize-to-image"
   ]
  },
  {
   "cell_type": "code",
   "execution_count": 1,
   "metadata": {
    "_cell_guid": "b1076dfc-b9ad-4769-8c92-a6c4dae69d19",
    "_uuid": "8f2839f25d086af736a60e9eeb907d3b93b6e0e5",
    "execution": {
     "iopub.execute_input": "2021-01-02T17:39:44.718097Z",
     "iopub.status.busy": "2021-01-02T17:39:44.717362Z",
     "iopub.status.idle": "2021-01-02T17:39:44.723328Z",
     "shell.execute_reply": "2021-01-02T17:39:44.723842Z"
    },
    "papermill": {
     "duration": 0.017555,
     "end_time": "2021-01-02T17:39:44.724023",
     "exception": false,
     "start_time": "2021-01-02T17:39:44.706468",
     "status": "completed"
    },
    "tags": []
   },
   "outputs": [],
   "source": [
    "import os\n",
    "\n",
    "from PIL import Image\n",
    "import pandas as pd\n",
    "from tqdm.auto import tqdm\n",
    "import cv2"
   ]
  },
  {
   "cell_type": "code",
   "execution_count": 2,
   "metadata": {
    "execution": {
     "iopub.execute_input": "2021-01-02T17:39:44.740753Z",
     "iopub.status.busy": "2021-01-02T17:39:44.739987Z",
     "iopub.status.idle": "2021-01-02T17:39:44.966520Z",
     "shell.execute_reply": "2021-01-02T17:39:44.965743Z"
    },
    "papermill": {
     "duration": 0.236626,
     "end_time": "2021-01-02T17:39:44.966678",
     "exception": false,
     "start_time": "2021-01-02T17:39:44.730052",
     "status": "completed"
    },
    "tags": []
   },
   "outputs": [],
   "source": [
    "import numpy as np\n",
    "import pydicom\n",
    "from pydicom.pixel_data_handlers.util import apply_voi_lut\n",
    "\n",
    "def read_xray(path, voi_lut = True, fix_monochrome = True):\n",
    "    # Original from: https://www.kaggle.com/raddar/convert-dicom-to-np-array-the-correct-way\n",
    "    dicom = pydicom.read_file(path)\n",
    "    \n",
    "    # VOI LUT (if available by DICOM device) is used to transform raw DICOM data to \n",
    "    # \"human-friendly\" view\n",
    "    if voi_lut:\n",
    "        data = apply_voi_lut(dicom.pixel_array, dicom)\n",
    "    else:\n",
    "        data = dicom.pixel_array\n",
    "               \n",
    "    # depending on this value, X-ray may look inverted - fix that:\n",
    "    if fix_monochrome and dicom.PhotometricInterpretation == \"MONOCHROME1\":\n",
    "        data = np.amax(data) - data\n",
    "        \n",
    "    data = data - np.min(data)\n",
    "    data = data / np.max(data)\n",
    "    data = (data * 255).astype(np.uint8)\n",
    "        \n",
    "    return data"
   ]
  },
  {
   "cell_type": "code",
   "execution_count": 3,
   "metadata": {
    "execution": {
     "iopub.execute_input": "2021-01-02T17:39:44.987165Z",
     "iopub.status.busy": "2021-01-02T17:39:44.986293Z",
     "iopub.status.idle": "2021-01-02T17:39:44.989420Z",
     "shell.execute_reply": "2021-01-02T17:39:44.988669Z"
    },
    "papermill": {
     "duration": 0.016149,
     "end_time": "2021-01-02T17:39:44.989562",
     "exception": false,
     "start_time": "2021-01-02T17:39:44.973413",
     "status": "completed"
    },
    "tags": []
   },
   "outputs": [],
   "source": [
    "def resize(array, size, keep_ratio=False, resample=Image.LANCZOS):\n",
    "    # Original from: https://www.kaggle.com/xhlulu/vinbigdata-process-and-resize-to-image\n",
    "    im = Image.fromarray(array)\n",
    "    \n",
    "    if keep_ratio:\n",
    "        im.thumbnail((size, size), resample)\n",
    "    else:\n",
    "        im = im.resize((size, size), resample)\n",
    "    \n",
    "    return im"
   ]
  },
  {
   "cell_type": "code",
   "execution_count": 4,
   "metadata": {},
   "outputs": [],
   "source": [
    "def enh_alphaTMean(im,alpha,n=5):\n",
    "    img = np.zeros(im.shape,dtype=np.int16)\n",
    "    \n",
    "    v = (n-1)/2\n",
    "    \n",
    "    # Calculate the trim coefficient\n",
    "    b = int((n*n)*(alpha))\n",
    "    \n",
    "    # Process the image\n",
    "    for i in range(0,im.shape[0]):\n",
    "        for j in range(0,im.shape[1]):\n",
    "            # Extract the window area\n",
    "            block = im[int(max(i-v,0)):int(min(i+v+1,im.shape[0])), int(max(j-v,0)):int(min(j+v+1,im.shape[1]))]\n",
    "\n",
    "            # Reshape the neighborhood into a vector by flattening the 2D block\n",
    "            wB = block.flatten()\n",
    "            \n",
    "            # Sort the vector into ascending order\n",
    "            wB = np.sort(wB)\n",
    "            len = wB.size\n",
    "            \n",
    "            # Trim b elements from each end of the vector\n",
    "            if (b != 0):\n",
    "                nwB = wB[b:len-b]\n",
    "    \n",
    "            # Calculate the mean of the trimmed vector\n",
    "            tMean = nwB.mean()\n",
    "\n",
    "            # Assign the values\n",
    "            if (tMean > 0):\n",
    "                img[i][j] = int(tMean)\n",
    "    return img\n",
    "\n",
    "def alpha_filter(image,alpha):\n",
    "    alpha = float(alpha)\n",
    "    result_img = enh_alphaTMean(image,alpha,5)\n",
    "    return result_img"
   ]
  },
  {
   "cell_type": "code",
   "execution_count": 5,
   "metadata": {},
   "outputs": [],
   "source": [
    "def preprocess(img):    \n",
    "    img = np.array(img)\n",
    "    \n",
    "    \n",
    "    img = cv2.equalizeHist(img) #Equalize histogram\n",
    "    \n",
    "    img = cv2.GaussianBlur(img, (3,3), 10) #Gaussian Filter\n",
    "    \n",
    "#     img = alpha_filter(img, 6.0) #Alpha-Trimmed Mean Filter\n",
    "    \n",
    "    kernel = cv2.getGaborKernel((9, 9), 1.0, np.pi/4, 1.0, 0.5, 0, ktype=cv2.CV_32F)\n",
    "    img = cv2.filter2D(img, cv2.CV_8UC3, kernel) # Gabor Filte\n",
    "    \n",
    "    \n",
    "    norm_img = np.zeros((img.shape[0], img.shape[1]))\n",
    "    img = cv2.normalize(img,  norm_img, 0, 255, cv2.NORM_MINMAX)\n",
    "    \n",
    "    \n",
    "    # Adaptive Median Filter, Alpha-Trimmed Mean Filter, Gaussian Filter,\n",
    "    # Gabor Filter, High Pass Filter, Laplacian Filter, and Bilateral Filter. H.\n",
    "    # Kim et al. [20] used the Median Filter (the kernel size is 3 × 3) and\n",
    "    # Top-hat filter to reduce image noise and to smooth it\n",
    "    return Image.fromarray(img)"
   ]
  },
  {
   "cell_type": "code",
   "execution_count": 6,
   "metadata": {
    "execution": {
     "iopub.execute_input": "2021-01-02T17:39:45.012913Z",
     "iopub.status.busy": "2021-01-02T17:39:45.012225Z",
     "iopub.status.idle": "2021-01-03T00:22:06.626164Z",
     "shell.execute_reply": "2021-01-03T00:22:06.630077Z"
    },
    "papermill": {
     "duration": 24141.634782,
     "end_time": "2021-01-03T00:22:06.631163",
     "exception": false,
     "start_time": "2021-01-02T17:39:44.996381",
     "status": "completed"
    },
    "tags": []
   },
   "outputs": [
    {
     "data": {
      "application/vnd.jupyter.widget-view+json": {
       "model_id": "20a21f32ee194c55849e557f9425f9c4",
       "version_major": 2,
       "version_minor": 0
      },
      "text/plain": [
       "  0%|          | 0/15000 [00:00<?, ?it/s]"
      ]
     },
     "metadata": {},
     "output_type": "display_data"
    },
    {
     "name": "stderr",
     "output_type": "stream",
     "text": [
      "/home/weronika/.local/lib/python3.8/site-packages/pydicom/pixel_data_handlers/pillow_handler.py:176: UserWarning: The (0028,0101) 'Bits Stored' value (12-bit) doesn't match the JPEG 2000 data (16-bit). It's recommended that you change the 'Bits Stored' value\n",
      "  warnings.warn(\n",
      "/home/weronika/.local/lib/python3.8/site-packages/pydicom/pixel_data_handlers/pillow_handler.py:176: UserWarning: The (0028,0101) 'Bits Stored' value (14-bit) doesn't match the JPEG 2000 data (16-bit). It's recommended that you change the 'Bits Stored' value\n",
      "  warnings.warn(\n"
     ]
    },
    {
     "data": {
      "application/vnd.jupyter.widget-view+json": {
       "model_id": "81d2b330688d447692bb50130c15e618",
       "version_major": 2,
       "version_minor": 0
      },
      "text/plain": [
       "  0%|          | 0/3000 [00:00<?, ?it/s]"
      ]
     },
     "metadata": {},
     "output_type": "display_data"
    }
   ],
   "source": [
    "image_id = []\n",
    "dim0 = []\n",
    "dim1 = []\n",
    "\n",
    "for split in ['train', 'test']:\n",
    "    load_dir = f'../{split}/'\n",
    "    save_dir = f'./kaggle/tmp/{split}/'\n",
    "\n",
    "    os.makedirs(save_dir, exist_ok=True)\n",
    "\n",
    "    for file in tqdm(os.listdir(load_dir)):\n",
    "        # set keep_ratio=True to have original aspect ratio\n",
    "        xray = read_xray(load_dir + file)\n",
    "        im = resize(xray, size=256)\n",
    "        im = preprocess(im)\n",
    "        im.save(save_dir + file.replace('dicom', 'png'))\n",
    "        \n",
    "        if split == 'train':\n",
    "            image_id.append(file.replace('.dicom', ''))\n",
    "            dim0.append(xray.shape[0])\n",
    "            dim1.append(xray.shape[1])"
   ]
  },
  {
   "cell_type": "code",
   "execution_count": 7,
   "metadata": {
    "execution": {
     "iopub.execute_input": "2021-01-03T00:22:06.664174Z",
     "iopub.status.busy": "2021-01-03T00:22:06.663513Z",
     "iopub.status.idle": "2021-01-03T00:22:41.617372Z",
     "shell.execute_reply": "2021-01-03T00:22:41.617944Z"
    },
    "papermill": {
     "duration": 34.97761,
     "end_time": "2021-01-03T00:22:41.618107",
     "exception": false,
     "start_time": "2021-01-03T00:22:06.640497",
     "status": "completed"
    },
    "tags": []
   },
   "outputs": [
    {
     "name": "stdout",
     "output_type": "stream",
     "text": [
      "CPU times: user 252 ms, sys: 56.1 ms, total: 308 ms\n",
      "Wall time: 22.9 s\n"
     ]
    }
   ],
   "source": [
    "%%time\n",
    "!tar -zcf train.tar.gz -C \"./kaggle/tmp/train/\" .\n",
    "!tar -zcf test.tar.gz -C \"./kaggle/tmp/test/\" ."
   ]
  },
  {
   "cell_type": "code",
   "execution_count": 8,
   "metadata": {
    "execution": {
     "iopub.execute_input": "2021-01-03T00:22:41.699516Z",
     "iopub.status.busy": "2021-01-03T00:22:41.663125Z",
     "iopub.status.idle": "2021-01-03T00:22:42.509488Z",
     "shell.execute_reply": "2021-01-03T00:22:42.508690Z"
    },
    "papermill": {
     "duration": 0.881522,
     "end_time": "2021-01-03T00:22:42.509622",
     "exception": false,
     "start_time": "2021-01-03T00:22:41.628100",
     "status": "completed"
    },
    "tags": []
   },
   "outputs": [],
   "source": [
    "df = pd.DataFrame.from_dict({'image_id': image_id, 'dim0': dim0, 'dim1': dim1})\n",
    "df.to_csv('train_meta.csv', index=False)"
   ]
  },
  {
   "cell_type": "code",
   "execution_count": null,
   "metadata": {},
   "outputs": [],
   "source": []
  }
 ],
 "metadata": {
  "kernelspec": {
   "display_name": "Python 3",
   "language": "python",
   "name": "python3"
  },
  "language_info": {
   "codemirror_mode": {
    "name": "ipython",
    "version": 3
   },
   "file_extension": ".py",
   "mimetype": "text/x-python",
   "name": "python",
   "nbconvert_exporter": "python",
   "pygments_lexer": "ipython3",
   "version": "3.8.5"
  },
  "papermill": {
   "duration": 24183.177617,
   "end_time": "2021-01-03T00:22:42.658213",
   "environment_variables": {},
   "exception": null,
   "input_path": "__notebook__.ipynb",
   "output_path": "__notebook__.ipynb",
   "parameters": {},
   "start_time": "2021-01-02T17:39:39.480596",
   "version": "2.1.0"
  },
  "widgets": {
   "application/vnd.jupyter.widget-state+json": {
    "state": {
     "159d171ff02842d7b1345aab261682f2": {
      "model_module": "@jupyter-widgets/controls",
      "model_module_version": "1.5.0",
      "model_name": "HTMLModel",
      "state": {
       "_dom_classes": [],
       "_model_module": "@jupyter-widgets/controls",
       "_model_module_version": "1.5.0",
       "_model_name": "HTMLModel",
       "_view_count": null,
       "_view_module": "@jupyter-widgets/controls",
       "_view_module_version": "1.5.0",
       "_view_name": "HTMLView",
       "description": "",
       "description_tooltip": null,
       "layout": "IPY_MODEL_c7ed142f8b6e407684a178cae02a06b2",
       "placeholder": "​",
       "style": "IPY_MODEL_ec4cc0a04ff746889818061e79dbea27",
       "value": " 3000/3000 [1:06:21&lt;00:00,  1.33s/it]"
      }
     },
     "36e451b00bbf44c3a19ffe2a20a27f1a": {
      "model_module": "@jupyter-widgets/base",
      "model_module_version": "1.2.0",
      "model_name": "LayoutModel",
      "state": {
       "_model_module": "@jupyter-widgets/base",
       "_model_module_version": "1.2.0",
       "_model_name": "LayoutModel",
       "_view_count": null,
       "_view_module": "@jupyter-widgets/base",
       "_view_module_version": "1.2.0",
       "_view_name": "LayoutView",
       "align_content": null,
       "align_items": null,
       "align_self": null,
       "border": null,
       "bottom": null,
       "display": null,
       "flex": null,
       "flex_flow": null,
       "grid_area": null,
       "grid_auto_columns": null,
       "grid_auto_flow": null,
       "grid_auto_rows": null,
       "grid_column": null,
       "grid_gap": null,
       "grid_row": null,
       "grid_template_areas": null,
       "grid_template_columns": null,
       "grid_template_rows": null,
       "height": null,
       "justify_content": null,
       "justify_items": null,
       "left": null,
       "margin": null,
       "max_height": null,
       "max_width": null,
       "min_height": null,
       "min_width": null,
       "object_fit": null,
       "object_position": null,
       "order": null,
       "overflow": null,
       "overflow_x": null,
       "overflow_y": null,
       "padding": null,
       "right": null,
       "top": null,
       "visibility": null,
       "width": null
      }
     },
     "4fbfd55cb8f14529b43621aed054adfe": {
      "model_module": "@jupyter-widgets/controls",
      "model_module_version": "1.5.0",
      "model_name": "ProgressStyleModel",
      "state": {
       "_model_module": "@jupyter-widgets/controls",
       "_model_module_version": "1.5.0",
       "_model_name": "ProgressStyleModel",
       "_view_count": null,
       "_view_module": "@jupyter-widgets/base",
       "_view_module_version": "1.2.0",
       "_view_name": "StyleView",
       "bar_color": null,
       "description_width": "initial"
      }
     },
     "5424cd94179f4859a86338ffc4d23763": {
      "model_module": "@jupyter-widgets/controls",
      "model_module_version": "1.5.0",
      "model_name": "HTMLModel",
      "state": {
       "_dom_classes": [],
       "_model_module": "@jupyter-widgets/controls",
       "_model_module_version": "1.5.0",
       "_model_name": "HTMLModel",
       "_view_count": null,
       "_view_module": "@jupyter-widgets/controls",
       "_view_module_version": "1.5.0",
       "_view_name": "HTMLView",
       "description": "",
       "description_tooltip": null,
       "layout": "IPY_MODEL_5c923a78598e43c8ad8c871da50e56ea",
       "placeholder": "​",
       "style": "IPY_MODEL_a35ed80322b946f0b7081f625eef3194",
       "value": " 15000/15000 [5:35:59&lt;00:00,  1.34s/it]"
      }
     },
     "5c923a78598e43c8ad8c871da50e56ea": {
      "model_module": "@jupyter-widgets/base",
      "model_module_version": "1.2.0",
      "model_name": "LayoutModel",
      "state": {
       "_model_module": "@jupyter-widgets/base",
       "_model_module_version": "1.2.0",
       "_model_name": "LayoutModel",
       "_view_count": null,
       "_view_module": "@jupyter-widgets/base",
       "_view_module_version": "1.2.0",
       "_view_name": "LayoutView",
       "align_content": null,
       "align_items": null,
       "align_self": null,
       "border": null,
       "bottom": null,
       "display": null,
       "flex": null,
       "flex_flow": null,
       "grid_area": null,
       "grid_auto_columns": null,
       "grid_auto_flow": null,
       "grid_auto_rows": null,
       "grid_column": null,
       "grid_gap": null,
       "grid_row": null,
       "grid_template_areas": null,
       "grid_template_columns": null,
       "grid_template_rows": null,
       "height": null,
       "justify_content": null,
       "justify_items": null,
       "left": null,
       "margin": null,
       "max_height": null,
       "max_width": null,
       "min_height": null,
       "min_width": null,
       "object_fit": null,
       "object_position": null,
       "order": null,
       "overflow": null,
       "overflow_x": null,
       "overflow_y": null,
       "padding": null,
       "right": null,
       "top": null,
       "visibility": null,
       "width": null
      }
     },
     "5f2ce7e976cf40ac9dc20b62bd1f2e4f": {
      "model_module": "@jupyter-widgets/controls",
      "model_module_version": "1.5.0",
      "model_name": "ProgressStyleModel",
      "state": {
       "_model_module": "@jupyter-widgets/controls",
       "_model_module_version": "1.5.0",
       "_model_name": "ProgressStyleModel",
       "_view_count": null,
       "_view_module": "@jupyter-widgets/base",
       "_view_module_version": "1.2.0",
       "_view_name": "StyleView",
       "bar_color": null,
       "description_width": "initial"
      }
     },
     "6190557c9bee4e1a99b20cd1075d6f2a": {
      "model_module": "@jupyter-widgets/base",
      "model_module_version": "1.2.0",
      "model_name": "LayoutModel",
      "state": {
       "_model_module": "@jupyter-widgets/base",
       "_model_module_version": "1.2.0",
       "_model_name": "LayoutModel",
       "_view_count": null,
       "_view_module": "@jupyter-widgets/base",
       "_view_module_version": "1.2.0",
       "_view_name": "LayoutView",
       "align_content": null,
       "align_items": null,
       "align_self": null,
       "border": null,
       "bottom": null,
       "display": null,
       "flex": null,
       "flex_flow": null,
       "grid_area": null,
       "grid_auto_columns": null,
       "grid_auto_flow": null,
       "grid_auto_rows": null,
       "grid_column": null,
       "grid_gap": null,
       "grid_row": null,
       "grid_template_areas": null,
       "grid_template_columns": null,
       "grid_template_rows": null,
       "height": null,
       "justify_content": null,
       "justify_items": null,
       "left": null,
       "margin": null,
       "max_height": null,
       "max_width": null,
       "min_height": null,
       "min_width": null,
       "object_fit": null,
       "object_position": null,
       "order": null,
       "overflow": null,
       "overflow_x": null,
       "overflow_y": null,
       "padding": null,
       "right": null,
       "top": null,
       "visibility": null,
       "width": null
      }
     },
     "8257e964abb440769136386106d08da0": {
      "model_module": "@jupyter-widgets/controls",
      "model_module_version": "1.5.0",
      "model_name": "HBoxModel",
      "state": {
       "_dom_classes": [],
       "_model_module": "@jupyter-widgets/controls",
       "_model_module_version": "1.5.0",
       "_model_name": "HBoxModel",
       "_view_count": null,
       "_view_module": "@jupyter-widgets/controls",
       "_view_module_version": "1.5.0",
       "_view_name": "HBoxView",
       "box_style": "",
       "children": [
        "IPY_MODEL_e5ab0ce200d542e1ab61fa6c331a1261",
        "IPY_MODEL_5424cd94179f4859a86338ffc4d23763"
       ],
       "layout": "IPY_MODEL_6190557c9bee4e1a99b20cd1075d6f2a"
      }
     },
     "89355c08976c4c63ba0c3c271d68716e": {
      "model_module": "@jupyter-widgets/base",
      "model_module_version": "1.2.0",
      "model_name": "LayoutModel",
      "state": {
       "_model_module": "@jupyter-widgets/base",
       "_model_module_version": "1.2.0",
       "_model_name": "LayoutModel",
       "_view_count": null,
       "_view_module": "@jupyter-widgets/base",
       "_view_module_version": "1.2.0",
       "_view_name": "LayoutView",
       "align_content": null,
       "align_items": null,
       "align_self": null,
       "border": null,
       "bottom": null,
       "display": null,
       "flex": null,
       "flex_flow": null,
       "grid_area": null,
       "grid_auto_columns": null,
       "grid_auto_flow": null,
       "grid_auto_rows": null,
       "grid_column": null,
       "grid_gap": null,
       "grid_row": null,
       "grid_template_areas": null,
       "grid_template_columns": null,
       "grid_template_rows": null,
       "height": null,
       "justify_content": null,
       "justify_items": null,
       "left": null,
       "margin": null,
       "max_height": null,
       "max_width": null,
       "min_height": null,
       "min_width": null,
       "object_fit": null,
       "object_position": null,
       "order": null,
       "overflow": null,
       "overflow_x": null,
       "overflow_y": null,
       "padding": null,
       "right": null,
       "top": null,
       "visibility": null,
       "width": null
      }
     },
     "a35ed80322b946f0b7081f625eef3194": {
      "model_module": "@jupyter-widgets/controls",
      "model_module_version": "1.5.0",
      "model_name": "DescriptionStyleModel",
      "state": {
       "_model_module": "@jupyter-widgets/controls",
       "_model_module_version": "1.5.0",
       "_model_name": "DescriptionStyleModel",
       "_view_count": null,
       "_view_module": "@jupyter-widgets/base",
       "_view_module_version": "1.2.0",
       "_view_name": "StyleView",
       "description_width": ""
      }
     },
     "c7ed142f8b6e407684a178cae02a06b2": {
      "model_module": "@jupyter-widgets/base",
      "model_module_version": "1.2.0",
      "model_name": "LayoutModel",
      "state": {
       "_model_module": "@jupyter-widgets/base",
       "_model_module_version": "1.2.0",
       "_model_name": "LayoutModel",
       "_view_count": null,
       "_view_module": "@jupyter-widgets/base",
       "_view_module_version": "1.2.0",
       "_view_name": "LayoutView",
       "align_content": null,
       "align_items": null,
       "align_self": null,
       "border": null,
       "bottom": null,
       "display": null,
       "flex": null,
       "flex_flow": null,
       "grid_area": null,
       "grid_auto_columns": null,
       "grid_auto_flow": null,
       "grid_auto_rows": null,
       "grid_column": null,
       "grid_gap": null,
       "grid_row": null,
       "grid_template_areas": null,
       "grid_template_columns": null,
       "grid_template_rows": null,
       "height": null,
       "justify_content": null,
       "justify_items": null,
       "left": null,
       "margin": null,
       "max_height": null,
       "max_width": null,
       "min_height": null,
       "min_width": null,
       "object_fit": null,
       "object_position": null,
       "order": null,
       "overflow": null,
       "overflow_x": null,
       "overflow_y": null,
       "padding": null,
       "right": null,
       "top": null,
       "visibility": null,
       "width": null
      }
     },
     "da18ac75c5df45d0b8bc516de69dba7b": {
      "model_module": "@jupyter-widgets/controls",
      "model_module_version": "1.5.0",
      "model_name": "HBoxModel",
      "state": {
       "_dom_classes": [],
       "_model_module": "@jupyter-widgets/controls",
       "_model_module_version": "1.5.0",
       "_model_name": "HBoxModel",
       "_view_count": null,
       "_view_module": "@jupyter-widgets/controls",
       "_view_module_version": "1.5.0",
       "_view_name": "HBoxView",
       "box_style": "",
       "children": [
        "IPY_MODEL_e4994ca1aaf14238acaf9d63a7b87004",
        "IPY_MODEL_159d171ff02842d7b1345aab261682f2"
       ],
       "layout": "IPY_MODEL_ed7183dfd45b466db7df16a44639e585"
      }
     },
     "e4994ca1aaf14238acaf9d63a7b87004": {
      "model_module": "@jupyter-widgets/controls",
      "model_module_version": "1.5.0",
      "model_name": "FloatProgressModel",
      "state": {
       "_dom_classes": [],
       "_model_module": "@jupyter-widgets/controls",
       "_model_module_version": "1.5.0",
       "_model_name": "FloatProgressModel",
       "_view_count": null,
       "_view_module": "@jupyter-widgets/controls",
       "_view_module_version": "1.5.0",
       "_view_name": "ProgressView",
       "bar_style": "success",
       "description": "100%",
       "description_tooltip": null,
       "layout": "IPY_MODEL_36e451b00bbf44c3a19ffe2a20a27f1a",
       "max": 3000,
       "min": 0,
       "orientation": "horizontal",
       "style": "IPY_MODEL_4fbfd55cb8f14529b43621aed054adfe",
       "value": 3000
      }
     },
     "e5ab0ce200d542e1ab61fa6c331a1261": {
      "model_module": "@jupyter-widgets/controls",
      "model_module_version": "1.5.0",
      "model_name": "FloatProgressModel",
      "state": {
       "_dom_classes": [],
       "_model_module": "@jupyter-widgets/controls",
       "_model_module_version": "1.5.0",
       "_model_name": "FloatProgressModel",
       "_view_count": null,
       "_view_module": "@jupyter-widgets/controls",
       "_view_module_version": "1.5.0",
       "_view_name": "ProgressView",
       "bar_style": "success",
       "description": "100%",
       "description_tooltip": null,
       "layout": "IPY_MODEL_89355c08976c4c63ba0c3c271d68716e",
       "max": 15000,
       "min": 0,
       "orientation": "horizontal",
       "style": "IPY_MODEL_5f2ce7e976cf40ac9dc20b62bd1f2e4f",
       "value": 15000
      }
     },
     "ec4cc0a04ff746889818061e79dbea27": {
      "model_module": "@jupyter-widgets/controls",
      "model_module_version": "1.5.0",
      "model_name": "DescriptionStyleModel",
      "state": {
       "_model_module": "@jupyter-widgets/controls",
       "_model_module_version": "1.5.0",
       "_model_name": "DescriptionStyleModel",
       "_view_count": null,
       "_view_module": "@jupyter-widgets/base",
       "_view_module_version": "1.2.0",
       "_view_name": "StyleView",
       "description_width": ""
      }
     },
     "ed7183dfd45b466db7df16a44639e585": {
      "model_module": "@jupyter-widgets/base",
      "model_module_version": "1.2.0",
      "model_name": "LayoutModel",
      "state": {
       "_model_module": "@jupyter-widgets/base",
       "_model_module_version": "1.2.0",
       "_model_name": "LayoutModel",
       "_view_count": null,
       "_view_module": "@jupyter-widgets/base",
       "_view_module_version": "1.2.0",
       "_view_name": "LayoutView",
       "align_content": null,
       "align_items": null,
       "align_self": null,
       "border": null,
       "bottom": null,
       "display": null,
       "flex": null,
       "flex_flow": null,
       "grid_area": null,
       "grid_auto_columns": null,
       "grid_auto_flow": null,
       "grid_auto_rows": null,
       "grid_column": null,
       "grid_gap": null,
       "grid_row": null,
       "grid_template_areas": null,
       "grid_template_columns": null,
       "grid_template_rows": null,
       "height": null,
       "justify_content": null,
       "justify_items": null,
       "left": null,
       "margin": null,
       "max_height": null,
       "max_width": null,
       "min_height": null,
       "min_width": null,
       "object_fit": null,
       "object_position": null,
       "order": null,
       "overflow": null,
       "overflow_x": null,
       "overflow_y": null,
       "padding": null,
       "right": null,
       "top": null,
       "visibility": null,
       "width": null
      }
     }
    },
    "version_major": 2,
    "version_minor": 0
   }
  }
 },
 "nbformat": 4,
 "nbformat_minor": 4
}
